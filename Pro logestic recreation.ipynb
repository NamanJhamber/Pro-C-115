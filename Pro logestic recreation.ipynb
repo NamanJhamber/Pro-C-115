{
  "nbformat": 4,
  "nbformat_minor": 0,
  "metadata": {
    "colab": {
      "name": " Pro logestic recreation.ipynb",
      "provenance": [],
      "authorship_tag": "ABX9TyN3d/2DloRs06u/0CoFizPw",
      "include_colab_link": true
    },
    "kernelspec": {
      "name": "python3",
      "display_name": "Python 3"
    },
    "language_info": {
      "name": "python"
    }
  },
  "cells": [
    {
      "cell_type": "markdown",
      "metadata": {
        "id": "view-in-github",
        "colab_type": "text"
      },
      "source": [
        "<a href=\"https://colab.research.google.com/github/NamanJhamber/Pro-C-115/blob/main/Pro%20logestic%20recreation.ipynb\" target=\"_parent\"><img src=\"https://colab.research.google.com/assets/colab-badge.svg\" alt=\"Open In Colab\"/></a>"
      ]
    },
    {
      "cell_type": "code",
      "metadata": {
        "colab": {
          "base_uri": "https://localhost:8080/",
          "height": 367
        },
        "id": "zgJ1Hy3vFpKd",
        "outputId": "0192a20d-7c41-47d3-f73d-3514eef622dc"
      },
      "source": [
        "import csv \n",
        "import plotly.express as px \n",
        "import pandas as pd\n",
        "import numpy as np\n",
        "import matplotlib.pyplot as plt\n",
        "from sklearn.linear_model import LogisticRegression\n",
        "\n",
        "df=pd.read_csv(\"data1.csv\")\n",
        "marks_list=df[\"Velocity\"].tolist()\n",
        "addmision_list=df[\"Escaped\"].tolist()\n",
        "\n",
        "X = np.reshape(marks_list, (len(marks_list), 1))\n",
        "Y = np.reshape(addmision_list, (len(addmision_list), 1))\n",
        "\n",
        "lr = LogisticRegression()\n",
        "lr.fit(X, Y)\n",
        "\n",
        "plt.figure()\n",
        "plt.scatter(X.ravel(), Y, color='black', zorder=20)\n",
        "\n",
        "def model(x):\n",
        "  return 1 / (1 + np.exp(-x))\n",
        "  user_score=float(input(\"Enter Your Marks Here\"))\n",
        "  chances=model(user_score*lr.coef_+lr.intercept_).ravel()[0]\n",
        "\n",
        "#Using the line formula \n",
        "X_test = np.linspace(0, 100, 200)\n",
        "chances = model(X_test * lr.coef_ + lr.intercept_).ravel()\n",
        "\n",
        "plt.plot(X_test, chances, color='red', linewidth=3)\n",
        "plt.axhline(y=0, color='k', linestyle='-')\n",
        "plt.axhline(y=1, color='k', linestyle='-')\n",
        "plt.axhline(y=0.5, color='b', linestyle='--')\n",
        "\n",
        "# do hit and trial by changing the value of X_test\n",
        "plt.axvline(x=X_test[165], color='b', linestyle='--')\n",
        "\n",
        "plt.ylabel('y')\n",
        "plt.xlabel('X')\n",
        "plt.xlim(75, 85)\n",
        "plt.show()"
      ],
      "execution_count": 24,
      "outputs": [
        {
          "output_type": "stream",
          "name": "stderr",
          "text": [
            "/usr/local/lib/python3.7/dist-packages/sklearn/utils/validation.py:760: DataConversionWarning:\n",
            "\n",
            "A column-vector y was passed when a 1d array was expected. Please change the shape of y to (n_samples, ), for example using ravel().\n",
            "\n"
          ]
        },
        {
          "output_type": "display_data",
          "data": {
            "image/png": "[encoded data removed]",
            "text/plain": [
              "<Figure size 432x288 with 1 Axes>"
            ]
          },
          "metadata": {
            "needs_background": "light"
          }
        }
      ]
    }
  ]
}